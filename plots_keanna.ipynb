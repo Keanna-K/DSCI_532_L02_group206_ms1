{
 "cells": [
  {
   "cell_type": "code",
   "execution_count": 1,
   "metadata": {},
   "outputs": [
    {
     "data": {
      "text/plain": [
       "DataTransformerRegistry.enable('default')"
      ]
     },
     "execution_count": 1,
     "metadata": {},
     "output_type": "execute_result"
    }
   ],
   "source": [
    "import altair as alt\n",
    "import numpy as np\n",
    "import pandas as pd\n",
    "import math\n",
    "\n",
    "alt.data_transformers.disable_max_rows()"
   ]
  },
  {
   "cell_type": "code",
   "execution_count": 3,
   "metadata": {},
   "outputs": [],
   "source": [
    "data = pd.read_csv(\"./data/cleaned_acc_data.csv\")"
   ]
  },
  {
   "cell_type": "code",
   "execution_count": 4,
   "metadata": {},
   "outputs": [],
   "source": [
    "data_new2 = data.groupby(by = [\"intake_monthyear\",\"animal_type\"]).agg({\"intake_weekday\":\"count\"}).reset_index()"
   ]
  },
  {
   "cell_type": "code",
   "execution_count": 5,
   "metadata": {},
   "outputs": [],
   "source": [
    "\n",
    "data['intake_year'] = pd.DatetimeIndex(data['intake_monthyear']).year"
   ]
  },
  {
   "cell_type": "code",
   "execution_count": 6,
   "metadata": {},
   "outputs": [
    {
     "data": {
      "text/html": [
       "<div>\n",
       "<style scoped>\n",
       "    .dataframe tbody tr th:only-of-type {\n",
       "        vertical-align: middle;\n",
       "    }\n",
       "\n",
       "    .dataframe tbody tr th {\n",
       "        vertical-align: top;\n",
       "    }\n",
       "\n",
       "    .dataframe thead th {\n",
       "        text-align: right;\n",
       "    }\n",
       "</style>\n",
       "<table border=\"1\" class=\"dataframe\">\n",
       "  <thead>\n",
       "    <tr style=\"text-align: right;\">\n",
       "      <th></th>\n",
       "      <th>animal_type</th>\n",
       "      <th>breed</th>\n",
       "      <th>intake_monthyear</th>\n",
       "      <th>intake_weekday</th>\n",
       "      <th>age_upon_intake_(days)</th>\n",
       "      <th>intake_condition</th>\n",
       "      <th>intake_type</th>\n",
       "      <th>sex_upon_intake</th>\n",
       "      <th>outcome_monthyear</th>\n",
       "      <th>outcome_weekday</th>\n",
       "      <th>age_upon_outcome_(days)</th>\n",
       "      <th>outcome_type</th>\n",
       "      <th>sex_upon_outcome</th>\n",
       "      <th>total_time_in_shelter_days</th>\n",
       "      <th>outcome_types</th>\n",
       "      <th>intake_year</th>\n",
       "    </tr>\n",
       "  </thead>\n",
       "  <tbody>\n",
       "    <tr>\n",
       "      <th>1</th>\n",
       "      <td>Dog</td>\n",
       "      <td>Dachshund</td>\n",
       "      <td>2014-04</td>\n",
       "      <td>Wednesday</td>\n",
       "      <td>3650</td>\n",
       "      <td>Normal</td>\n",
       "      <td>Owner Surrender</td>\n",
       "      <td>Neutered Male</td>\n",
       "      <td>2014-04</td>\n",
       "      <td>Monday</td>\n",
       "      <td>3650</td>\n",
       "      <td>Transfer</td>\n",
       "      <td>Neutered Male</td>\n",
       "      <td>4.970139</td>\n",
       "      <td>Transfer</td>\n",
       "      <td>2014</td>\n",
       "    </tr>\n",
       "    <tr>\n",
       "      <th>2</th>\n",
       "      <td>Dog</td>\n",
       "      <td>Shetland Sheepdog</td>\n",
       "      <td>2013-11</td>\n",
       "      <td>Saturday</td>\n",
       "      <td>5840</td>\n",
       "      <td>Injured</td>\n",
       "      <td>Public Assist</td>\n",
       "      <td>Neutered Male</td>\n",
       "      <td>2013-11</td>\n",
       "      <td>Saturday</td>\n",
       "      <td>5840</td>\n",
       "      <td>Return to Owner</td>\n",
       "      <td>Neutered Male</td>\n",
       "      <td>0.119444</td>\n",
       "      <td>Return to Owner</td>\n",
       "      <td>2013</td>\n",
       "    </tr>\n",
       "    <tr>\n",
       "      <th>3</th>\n",
       "      <td>Dog</td>\n",
       "      <td>Labrador Retriever/Pit Bull</td>\n",
       "      <td>2013-11</td>\n",
       "      <td>Saturday</td>\n",
       "      <td>5475</td>\n",
       "      <td>Aged</td>\n",
       "      <td>Stray</td>\n",
       "      <td>Spayed Female</td>\n",
       "      <td>2013-11</td>\n",
       "      <td>Sunday</td>\n",
       "      <td>5475</td>\n",
       "      <td>Return to Owner</td>\n",
       "      <td>Spayed Female</td>\n",
       "      <td>0.870833</td>\n",
       "      <td>Return to Owner</td>\n",
       "      <td>2013</td>\n",
       "    </tr>\n",
       "    <tr>\n",
       "      <th>4</th>\n",
       "      <td>Dog</td>\n",
       "      <td>Miniature Schnauzer Mix</td>\n",
       "      <td>2014-11</td>\n",
       "      <td>Friday</td>\n",
       "      <td>5475</td>\n",
       "      <td>Normal</td>\n",
       "      <td>Stray</td>\n",
       "      <td>Intact Female</td>\n",
       "      <td>2014-11</td>\n",
       "      <td>Friday</td>\n",
       "      <td>5475</td>\n",
       "      <td>Return to Owner</td>\n",
       "      <td>Intact Female</td>\n",
       "      <td>0.178472</td>\n",
       "      <td>Return to Owner</td>\n",
       "      <td>2014</td>\n",
       "    </tr>\n",
       "    <tr>\n",
       "      <th>5</th>\n",
       "      <td>Dog</td>\n",
       "      <td>Lhasa Apso Mix</td>\n",
       "      <td>2014-09</td>\n",
       "      <td>Monday</td>\n",
       "      <td>5475</td>\n",
       "      <td>Normal</td>\n",
       "      <td>Stray</td>\n",
       "      <td>Neutered Male</td>\n",
       "      <td>2014-09</td>\n",
       "      <td>Monday</td>\n",
       "      <td>5475</td>\n",
       "      <td>Return to Owner</td>\n",
       "      <td>Neutered Male</td>\n",
       "      <td>0.213194</td>\n",
       "      <td>Return to Owner</td>\n",
       "      <td>2014</td>\n",
       "    </tr>\n",
       "  </tbody>\n",
       "</table>\n",
       "</div>"
      ],
      "text/plain": [
       "  animal_type                        breed intake_monthyear intake_weekday  \\\n",
       "1         Dog                    Dachshund          2014-04      Wednesday   \n",
       "2         Dog            Shetland Sheepdog          2013-11       Saturday   \n",
       "3         Dog  Labrador Retriever/Pit Bull          2013-11       Saturday   \n",
       "4         Dog      Miniature Schnauzer Mix          2014-11         Friday   \n",
       "5         Dog               Lhasa Apso Mix          2014-09         Monday   \n",
       "\n",
       "   age_upon_intake_(days) intake_condition      intake_type sex_upon_intake  \\\n",
       "1                    3650           Normal  Owner Surrender   Neutered Male   \n",
       "2                    5840          Injured    Public Assist   Neutered Male   \n",
       "3                    5475             Aged            Stray   Spayed Female   \n",
       "4                    5475           Normal            Stray   Intact Female   \n",
       "5                    5475           Normal            Stray   Neutered Male   \n",
       "\n",
       "  outcome_monthyear outcome_weekday  age_upon_outcome_(days)     outcome_type  \\\n",
       "1           2014-04          Monday                     3650         Transfer   \n",
       "2           2013-11        Saturday                     5840  Return to Owner   \n",
       "3           2013-11          Sunday                     5475  Return to Owner   \n",
       "4           2014-11          Friday                     5475  Return to Owner   \n",
       "5           2014-09          Monday                     5475  Return to Owner   \n",
       "\n",
       "  sex_upon_outcome  total_time_in_shelter_days    outcome_types  intake_year  \n",
       "1    Neutered Male                    4.970139         Transfer         2014  \n",
       "2    Neutered Male                    0.119444  Return to Owner         2013  \n",
       "3    Spayed Female                    0.870833  Return to Owner         2013  \n",
       "4    Intact Female                    0.178472  Return to Owner         2014  \n",
       "5    Neutered Male                    0.213194  Return to Owner         2014  "
      ]
     },
     "execution_count": 6,
     "metadata": {},
     "output_type": "execute_result"
    }
   ],
   "source": [
    "data_new_filter = data[((data['intake_year'] >= 2013) & (data['intake_year'] <= 2015))]\n",
    "data_new_filter.head()"
   ]
  },
  {
   "cell_type": "code",
   "execution_count": 7,
   "metadata": {},
   "outputs": [
    {
     "data": {
      "text/html": [
       "<div>\n",
       "<style scoped>\n",
       "    .dataframe tbody tr th:only-of-type {\n",
       "        vertical-align: middle;\n",
       "    }\n",
       "\n",
       "    .dataframe tbody tr th {\n",
       "        vertical-align: top;\n",
       "    }\n",
       "\n",
       "    .dataframe thead th {\n",
       "        text-align: right;\n",
       "    }\n",
       "</style>\n",
       "<table border=\"1\" class=\"dataframe\">\n",
       "  <thead>\n",
       "    <tr style=\"text-align: right;\">\n",
       "      <th></th>\n",
       "      <th>animal_type</th>\n",
       "      <th>breed</th>\n",
       "      <th>intake_monthyear</th>\n",
       "      <th>intake_weekday</th>\n",
       "      <th>age_upon_intake_(days)</th>\n",
       "      <th>intake_condition</th>\n",
       "      <th>intake_type</th>\n",
       "      <th>sex_upon_intake</th>\n",
       "      <th>outcome_monthyear</th>\n",
       "      <th>outcome_weekday</th>\n",
       "      <th>age_upon_outcome_(days)</th>\n",
       "      <th>outcome_type</th>\n",
       "      <th>sex_upon_outcome</th>\n",
       "      <th>total_time_in_shelter_days</th>\n",
       "      <th>outcome_types</th>\n",
       "      <th>intake_year</th>\n",
       "    </tr>\n",
       "  </thead>\n",
       "  <tbody>\n",
       "    <tr>\n",
       "      <th>0</th>\n",
       "      <td>Dog</td>\n",
       "      <td>Spinone Italiano Mix</td>\n",
       "      <td>2017-12</td>\n",
       "      <td>Thursday</td>\n",
       "      <td>3650</td>\n",
       "      <td>Normal</td>\n",
       "      <td>Stray</td>\n",
       "      <td>Neutered Male</td>\n",
       "      <td>2017-12</td>\n",
       "      <td>Thursday</td>\n",
       "      <td>3650</td>\n",
       "      <td>Return to Owner</td>\n",
       "      <td>Neutered Male</td>\n",
       "      <td>2.961806</td>\n",
       "      <td>Return to Owner</td>\n",
       "      <td>2017</td>\n",
       "    </tr>\n",
       "    <tr>\n",
       "      <th>1</th>\n",
       "      <td>Dog</td>\n",
       "      <td>Dachshund</td>\n",
       "      <td>2014-04</td>\n",
       "      <td>Wednesday</td>\n",
       "      <td>3650</td>\n",
       "      <td>Normal</td>\n",
       "      <td>Owner Surrender</td>\n",
       "      <td>Neutered Male</td>\n",
       "      <td>2014-04</td>\n",
       "      <td>Monday</td>\n",
       "      <td>3650</td>\n",
       "      <td>Transfer</td>\n",
       "      <td>Neutered Male</td>\n",
       "      <td>4.970139</td>\n",
       "      <td>Transfer</td>\n",
       "      <td>2014</td>\n",
       "    </tr>\n",
       "    <tr>\n",
       "      <th>2</th>\n",
       "      <td>Dog</td>\n",
       "      <td>Shetland Sheepdog</td>\n",
       "      <td>2013-11</td>\n",
       "      <td>Saturday</td>\n",
       "      <td>5840</td>\n",
       "      <td>Injured</td>\n",
       "      <td>Public Assist</td>\n",
       "      <td>Neutered Male</td>\n",
       "      <td>2013-11</td>\n",
       "      <td>Saturday</td>\n",
       "      <td>5840</td>\n",
       "      <td>Return to Owner</td>\n",
       "      <td>Neutered Male</td>\n",
       "      <td>0.119444</td>\n",
       "      <td>Return to Owner</td>\n",
       "      <td>2013</td>\n",
       "    </tr>\n",
       "    <tr>\n",
       "      <th>3</th>\n",
       "      <td>Dog</td>\n",
       "      <td>Labrador Retriever/Pit Bull</td>\n",
       "      <td>2013-11</td>\n",
       "      <td>Saturday</td>\n",
       "      <td>5475</td>\n",
       "      <td>Aged</td>\n",
       "      <td>Stray</td>\n",
       "      <td>Spayed Female</td>\n",
       "      <td>2013-11</td>\n",
       "      <td>Sunday</td>\n",
       "      <td>5475</td>\n",
       "      <td>Return to Owner</td>\n",
       "      <td>Spayed Female</td>\n",
       "      <td>0.870833</td>\n",
       "      <td>Return to Owner</td>\n",
       "      <td>2013</td>\n",
       "    </tr>\n",
       "    <tr>\n",
       "      <th>4</th>\n",
       "      <td>Dog</td>\n",
       "      <td>Miniature Schnauzer Mix</td>\n",
       "      <td>2014-11</td>\n",
       "      <td>Friday</td>\n",
       "      <td>5475</td>\n",
       "      <td>Normal</td>\n",
       "      <td>Stray</td>\n",
       "      <td>Intact Female</td>\n",
       "      <td>2014-11</td>\n",
       "      <td>Friday</td>\n",
       "      <td>5475</td>\n",
       "      <td>Return to Owner</td>\n",
       "      <td>Intact Female</td>\n",
       "      <td>0.178472</td>\n",
       "      <td>Return to Owner</td>\n",
       "      <td>2014</td>\n",
       "    </tr>\n",
       "  </tbody>\n",
       "</table>\n",
       "</div>"
      ],
      "text/plain": [
       "  animal_type                        breed intake_monthyear intake_weekday  \\\n",
       "0         Dog         Spinone Italiano Mix          2017-12       Thursday   \n",
       "1         Dog                    Dachshund          2014-04      Wednesday   \n",
       "2         Dog            Shetland Sheepdog          2013-11       Saturday   \n",
       "3         Dog  Labrador Retriever/Pit Bull          2013-11       Saturday   \n",
       "4         Dog      Miniature Schnauzer Mix          2014-11         Friday   \n",
       "\n",
       "   age_upon_intake_(days) intake_condition      intake_type sex_upon_intake  \\\n",
       "0                    3650           Normal            Stray   Neutered Male   \n",
       "1                    3650           Normal  Owner Surrender   Neutered Male   \n",
       "2                    5840          Injured    Public Assist   Neutered Male   \n",
       "3                    5475             Aged            Stray   Spayed Female   \n",
       "4                    5475           Normal            Stray   Intact Female   \n",
       "\n",
       "  outcome_monthyear outcome_weekday  age_upon_outcome_(days)     outcome_type  \\\n",
       "0           2017-12        Thursday                     3650  Return to Owner   \n",
       "1           2014-04          Monday                     3650         Transfer   \n",
       "2           2013-11        Saturday                     5840  Return to Owner   \n",
       "3           2013-11          Sunday                     5475  Return to Owner   \n",
       "4           2014-11          Friday                     5475  Return to Owner   \n",
       "\n",
       "  sex_upon_outcome  total_time_in_shelter_days    outcome_types  intake_year  \n",
       "0    Neutered Male                    2.961806  Return to Owner         2017  \n",
       "1    Neutered Male                    4.970139         Transfer         2014  \n",
       "2    Neutered Male                    0.119444  Return to Owner         2013  \n",
       "3    Spayed Female                    0.870833  Return to Owner         2013  \n",
       "4    Intact Female                    0.178472  Return to Owner         2014  "
      ]
     },
     "execution_count": 7,
     "metadata": {},
     "output_type": "execute_result"
    }
   ],
   "source": [
    "data.head()"
   ]
  },
  {
   "cell_type": "code",
   "execution_count": 8,
   "metadata": {},
   "outputs": [
    {
     "data": {
      "text/html": [
       "<div>\n",
       "<style scoped>\n",
       "    .dataframe tbody tr th:only-of-type {\n",
       "        vertical-align: middle;\n",
       "    }\n",
       "\n",
       "    .dataframe tbody tr th {\n",
       "        vertical-align: top;\n",
       "    }\n",
       "\n",
       "    .dataframe thead th {\n",
       "        text-align: right;\n",
       "    }\n",
       "</style>\n",
       "<table border=\"1\" class=\"dataframe\">\n",
       "  <thead>\n",
       "    <tr style=\"text-align: right;\">\n",
       "      <th></th>\n",
       "      <th>intake_weekday</th>\n",
       "      <th>count</th>\n",
       "    </tr>\n",
       "  </thead>\n",
       "  <tbody>\n",
       "    <tr>\n",
       "      <th>0</th>\n",
       "      <td>Friday</td>\n",
       "      <td>2312</td>\n",
       "    </tr>\n",
       "    <tr>\n",
       "      <th>1</th>\n",
       "      <td>Monday</td>\n",
       "      <td>2510</td>\n",
       "    </tr>\n",
       "    <tr>\n",
       "      <th>2</th>\n",
       "      <td>Saturday</td>\n",
       "      <td>2228</td>\n",
       "    </tr>\n",
       "    <tr>\n",
       "      <th>3</th>\n",
       "      <td>Sunday</td>\n",
       "      <td>2148</td>\n",
       "    </tr>\n",
       "    <tr>\n",
       "      <th>4</th>\n",
       "      <td>Thursday</td>\n",
       "      <td>2248</td>\n",
       "    </tr>\n",
       "  </tbody>\n",
       "</table>\n",
       "</div>"
      ],
      "text/plain": [
       "  intake_weekday  count\n",
       "0         Friday   2312\n",
       "1         Monday   2510\n",
       "2       Saturday   2228\n",
       "3         Sunday   2148\n",
       "4       Thursday   2248"
      ]
     },
     "execution_count": 8,
     "metadata": {},
     "output_type": "execute_result"
    }
   ],
   "source": [
    "data_new = data[data['intake_monthyear'].str.contains('2017')].groupby(by = \"intake_weekday\").agg({\"animal_type\":\"count\"}).reset_index()\n",
    "data_new.columns = [\"intake_weekday\",\"count\"]\n",
    "data_new.head()"
   ]
  },
  {
   "cell_type": "code",
   "execution_count": 9,
   "metadata": {},
   "outputs": [
    {
     "data": {
      "application/vnd.vegalite.v3+json": {
       "$schema": "https://vega.github.io/schema/vega-lite/v3.4.0.json",
       "config": {
        "axisX": {
         "labelAngle": 45,
         "labelFontSize": 12,
         "titleFontSize": 15
        },
        "axisY": {
         "labelFontSize": 12,
         "titleFontSize": 15
        },
        "mark": {
         "tooltip": null
        },
        "title": {
         "fontSize": 20
        },
        "view": {
         "height": 300,
         "width": 400
        }
       },
       "data": {
        "name": "data-1346df9acedafae7f6639574ce5d5094"
       },
       "datasets": {
        "data-1346df9acedafae7f6639574ce5d5094": [
         {
          "count": 2312,
          "intake_weekday": "Friday"
         },
         {
          "count": 2510,
          "intake_weekday": "Monday"
         },
         {
          "count": 2228,
          "intake_weekday": "Saturday"
         },
         {
          "count": 2148,
          "intake_weekday": "Sunday"
         },
         {
          "count": 2248,
          "intake_weekday": "Thursday"
         },
         {
          "count": 2291,
          "intake_weekday": "Tuesday"
         },
         {
          "count": 2273,
          "intake_weekday": "Wednesday"
         }
        ]
       },
       "encoding": {
        "x": {
         "field": "intake_weekday",
         "sort": [
          "Sunday",
          "Monday",
          "Tuesday",
          "Wednesday",
          "Thursday",
          "Friday",
          "Saturday"
         ],
         "title": "Week Day",
         "type": "nominal"
        },
        "y": {
         "field": "count",
         "title": "Animal Count",
         "type": "quantitative"
        }
       },
       "height": 250,
       "mark": {
        "size": 40,
        "type": "bar"
       },
       "title": "Animal Intake in Shelter by Week Day",
       "width": 400
      },
      "image/png": "[encoded data removed]",
      "text/plain": [
       "<VegaLite 3 object>\n",
       "\n",
       "If you see this message, it means the renderer has not been properly enabled\n",
       "for the frontend that you are using. For more information, see\n",
       "https://altair-viz.github.io/user_guide/troubleshooting.html\n"
      ]
     },
     "execution_count": 9,
     "metadata": {},
     "output_type": "execute_result"
    }
   ],
   "source": [
    "chart = alt.Chart(data_new).mark_bar(size=40).encode(\n",
    "            alt.X('intake_weekday:N', title = 'Week Day',sort=[\"Sunday\",\"Monday\",\"Tuesday\",\"Wednesday\",\"Thursday\",\"Friday\",\"Saturday\"]),\n",
    "            alt.Y('count:Q', title = 'Animal Count')\n",
    "        ).properties(title='Animal Intake in Shelter by Week Day',\n",
    "                    width=400, height=250).configure_axisX(labelFontSize=12,\n",
    "    titleFontSize=15,\n",
    "    labelAngle = 45).configure_axisY(labelFontSize=12,\n",
    "    titleFontSize=15).configure_title(fontSize=20)\n",
    "chart"
   ]
  },
  {
   "cell_type": "code",
   "execution_count": 10,
   "metadata": {},
   "outputs": [
    {
     "data": {
      "text/html": [
       "<div>\n",
       "<style scoped>\n",
       "    .dataframe tbody tr th:only-of-type {\n",
       "        vertical-align: middle;\n",
       "    }\n",
       "\n",
       "    .dataframe tbody tr th {\n",
       "        vertical-align: top;\n",
       "    }\n",
       "\n",
       "    .dataframe thead th {\n",
       "        text-align: right;\n",
       "    }\n",
       "</style>\n",
       "<table border=\"1\" class=\"dataframe\">\n",
       "  <thead>\n",
       "    <tr style=\"text-align: right;\">\n",
       "      <th></th>\n",
       "      <th>outcome_weekday</th>\n",
       "      <th>count</th>\n",
       "    </tr>\n",
       "  </thead>\n",
       "  <tbody>\n",
       "    <tr>\n",
       "      <th>0</th>\n",
       "      <td>Friday</td>\n",
       "      <td>2308</td>\n",
       "    </tr>\n",
       "    <tr>\n",
       "      <th>1</th>\n",
       "      <td>Monday</td>\n",
       "      <td>2281</td>\n",
       "    </tr>\n",
       "    <tr>\n",
       "      <th>2</th>\n",
       "      <td>Saturday</td>\n",
       "      <td>2547</td>\n",
       "    </tr>\n",
       "    <tr>\n",
       "      <th>3</th>\n",
       "      <td>Sunday</td>\n",
       "      <td>2268</td>\n",
       "    </tr>\n",
       "    <tr>\n",
       "      <th>4</th>\n",
       "      <td>Thursday</td>\n",
       "      <td>2130</td>\n",
       "    </tr>\n",
       "  </tbody>\n",
       "</table>\n",
       "</div>"
      ],
      "text/plain": [
       "  outcome_weekday  count\n",
       "0          Friday   2308\n",
       "1          Monday   2281\n",
       "2        Saturday   2547\n",
       "3          Sunday   2268\n",
       "4        Thursday   2130"
      ]
     },
     "execution_count": 10,
     "metadata": {},
     "output_type": "execute_result"
    }
   ],
   "source": [
    "data_new = data[data['outcome_monthyear'].str.contains('2017')].groupby(by = \"outcome_weekday\").agg({\"animal_type\":\"count\"}).reset_index()\n",
    "data_new.columns = [\"outcome_weekday\",\"count\"]\n",
    "data_new.head()"
   ]
  },
  {
   "cell_type": "code",
   "execution_count": 11,
   "metadata": {},
   "outputs": [
    {
     "data": {
      "application/vnd.vegalite.v3+json": {
       "$schema": "https://vega.github.io/schema/vega-lite/v3.4.0.json",
       "config": {
        "axisX": {
         "labelAngle": 45,
         "labelFontSize": 12,
         "titleFontSize": 15
        },
        "axisY": {
         "labelFontSize": 12,
         "titleFontSize": 15
        },
        "mark": {
         "tooltip": null
        },
        "title": {
         "fontSize": 20
        },
        "view": {
         "height": 300,
         "width": 400
        }
       },
       "data": {
        "name": "data-056cbcf74ca9402a171c9f42a1b18d9a"
       },
       "datasets": {
        "data-056cbcf74ca9402a171c9f42a1b18d9a": [
         {
          "count": 2308,
          "outcome_weekday": "Friday"
         },
         {
          "count": 2281,
          "outcome_weekday": "Monday"
         },
         {
          "count": 2547,
          "outcome_weekday": "Saturday"
         },
         {
          "count": 2268,
          "outcome_weekday": "Sunday"
         },
         {
          "count": 2130,
          "outcome_weekday": "Thursday"
         },
         {
          "count": 2525,
          "outcome_weekday": "Tuesday"
         },
         {
          "count": 2129,
          "outcome_weekday": "Wednesday"
         }
        ]
       },
       "encoding": {
        "x": {
         "field": "outcome_weekday",
         "sort": [
          "Sunday",
          "Monday",
          "Tuesday",
          "Wednesday",
          "Thursday",
          "Friday",
          "Saturday"
         ],
         "title": "Week Day",
         "type": "nominal"
        },
        "y": {
         "field": "count",
         "title": "Animal Count",
         "type": "quantitative"
        }
       },
       "height": 250,
       "mark": {
        "size": 40,
        "type": "bar"
       },
       "title": "Animal Outake in Shelter by Week Day",
       "width": 400
      },
      "image/png": "[encoded data removed]",
      "text/plain": [
       "<VegaLite 3 object>\n",
       "\n",
       "If you see this message, it means the renderer has not been properly enabled\n",
       "for the frontend that you are using. For more information, see\n",
       "https://altair-viz.github.io/user_guide/troubleshooting.html\n"
      ]
     },
     "execution_count": 11,
     "metadata": {},
     "output_type": "execute_result"
    }
   ],
   "source": [
    "chart = alt.Chart(data_new).mark_bar(size=40).encode(\n",
    "            alt.X('outcome_weekday:N', title = 'Week Day',sort=[\"Sunday\",\"Monday\",\"Tuesday\",\"Wednesday\",\"Thursday\",\"Friday\",\"Saturday\"]),\n",
    "            alt.Y('count:Q', title = 'Animal Count')\n",
    "        ).properties(title='Animal Outake in Shelter by Week Day',\n",
    "                    width=400, height=250).configure_axisX(labelFontSize=12,\n",
    "    titleFontSize=15,\n",
    "    labelAngle = 45).configure_axisY(labelFontSize=12,\n",
    "    titleFontSize=15).configure_title(fontSize=20)\n",
    "chart"
   ]
  },
  {
   "cell_type": "code",
   "execution_count": 17,
   "metadata": {},
   "outputs": [
    {
     "data": {
      "text/html": [
       "<div>\n",
       "<style scoped>\n",
       "    .dataframe tbody tr th:only-of-type {\n",
       "        vertical-align: middle;\n",
       "    }\n",
       "\n",
       "    .dataframe tbody tr th {\n",
       "        vertical-align: top;\n",
       "    }\n",
       "\n",
       "    .dataframe thead th {\n",
       "        text-align: right;\n",
       "    }\n",
       "</style>\n",
       "<table border=\"1\" class=\"dataframe\">\n",
       "  <thead>\n",
       "    <tr style=\"text-align: right;\">\n",
       "      <th></th>\n",
       "      <th>intake_monthyear</th>\n",
       "      <th>count</th>\n",
       "      <th>Type</th>\n",
       "    </tr>\n",
       "  </thead>\n",
       "  <tbody>\n",
       "    <tr>\n",
       "      <th>0</th>\n",
       "      <td>2013-10</td>\n",
       "      <td>1438</td>\n",
       "      <td>Intake</td>\n",
       "    </tr>\n",
       "    <tr>\n",
       "      <th>1</th>\n",
       "      <td>2013-11</td>\n",
       "      <td>1185</td>\n",
       "      <td>Intake</td>\n",
       "    </tr>\n",
       "    <tr>\n",
       "      <th>2</th>\n",
       "      <td>2013-12</td>\n",
       "      <td>1143</td>\n",
       "      <td>Intake</td>\n",
       "    </tr>\n",
       "    <tr>\n",
       "      <th>3</th>\n",
       "      <td>2014-01</td>\n",
       "      <td>1115</td>\n",
       "      <td>Intake</td>\n",
       "    </tr>\n",
       "    <tr>\n",
       "      <th>4</th>\n",
       "      <td>2014-02</td>\n",
       "      <td>1037</td>\n",
       "      <td>Intake</td>\n",
       "    </tr>\n",
       "  </tbody>\n",
       "</table>\n",
       "</div>"
      ],
      "text/plain": [
       "  intake_monthyear  count    Type\n",
       "0          2013-10   1438  Intake\n",
       "1          2013-11   1185  Intake\n",
       "2          2013-12   1143  Intake\n",
       "3          2014-01   1115  Intake\n",
       "4          2014-02   1037  Intake"
      ]
     },
     "execution_count": 17,
     "metadata": {},
     "output_type": "execute_result"
    }
   ],
   "source": [
    "data_new = data.groupby(by = \"intake_monthyear\").agg({\"animal_type\":\"count\"}).reset_index()\n",
    "data_new.columns = [\"intake_monthyear\",\"count\"]\n",
    "data_new[\"Type\"] = \"Intake\"\n",
    "data_new.head()"
   ]
  },
  {
   "cell_type": "code",
   "execution_count": 18,
   "metadata": {},
   "outputs": [
    {
     "data": {
      "text/html": [
       "<div>\n",
       "<style scoped>\n",
       "    .dataframe tbody tr th:only-of-type {\n",
       "        vertical-align: middle;\n",
       "    }\n",
       "\n",
       "    .dataframe tbody tr th {\n",
       "        vertical-align: top;\n",
       "    }\n",
       "\n",
       "    .dataframe thead th {\n",
       "        text-align: right;\n",
       "    }\n",
       "</style>\n",
       "<table border=\"1\" class=\"dataframe\">\n",
       "  <thead>\n",
       "    <tr style=\"text-align: right;\">\n",
       "      <th></th>\n",
       "      <th>outcome_monthyear</th>\n",
       "      <th>count</th>\n",
       "      <th>Type</th>\n",
       "    </tr>\n",
       "  </thead>\n",
       "  <tbody>\n",
       "    <tr>\n",
       "      <th>0</th>\n",
       "      <td>2013-10</td>\n",
       "      <td>982</td>\n",
       "      <td>Outake</td>\n",
       "    </tr>\n",
       "    <tr>\n",
       "      <th>1</th>\n",
       "      <td>2013-11</td>\n",
       "      <td>1077</td>\n",
       "      <td>Outake</td>\n",
       "    </tr>\n",
       "    <tr>\n",
       "      <th>2</th>\n",
       "      <td>2013-12</td>\n",
       "      <td>1302</td>\n",
       "      <td>Outake</td>\n",
       "    </tr>\n",
       "    <tr>\n",
       "      <th>3</th>\n",
       "      <td>2014-01</td>\n",
       "      <td>1067</td>\n",
       "      <td>Outake</td>\n",
       "    </tr>\n",
       "    <tr>\n",
       "      <th>4</th>\n",
       "      <td>2014-02</td>\n",
       "      <td>988</td>\n",
       "      <td>Outake</td>\n",
       "    </tr>\n",
       "  </tbody>\n",
       "</table>\n",
       "</div>"
      ],
      "text/plain": [
       "  outcome_monthyear  count    Type\n",
       "0           2013-10    982  Outake\n",
       "1           2013-11   1077  Outake\n",
       "2           2013-12   1302  Outake\n",
       "3           2014-01   1067  Outake\n",
       "4           2014-02    988  Outake"
      ]
     },
     "execution_count": 18,
     "metadata": {},
     "output_type": "execute_result"
    }
   ],
   "source": [
    "data_new1 = data.groupby(by = \"outcome_monthyear\").agg({\"animal_type\":\"count\"}).reset_index()\n",
    "data_new1.columns = [\"outcome_monthyear\",\"count\"]\n",
    "data_new1[\"Type\"] = \"Outake\"\n",
    "data_new1.head()"
   ]
  },
  {
   "cell_type": "code",
   "execution_count": 56,
   "metadata": {},
   "outputs": [
    {
     "data": {
      "application/vnd.vegalite.v3+json": {
       "$schema": "https://vega.github.io/schema/vega-lite/v3.4.0.json",
       "config": {
        "axisX": {
         "labelAngle": 45,
         "labelFontSize": 14,
         "labelOverlap": true,
         "titleFontSize": 18
        },
        "axisY": {
         "labelFontSize": 14,
         "titleFontSize": 18
        },
        "legend": {
         "labelFontSize": 18,
         "titleFontSize": 20
        },
        "mark": {
         "tooltip": null
        },
        "title": {
         "fontSize": 20
        },
        "view": {
         "height": 300,
         "width": 400
        }
       },
       "datasets": {
        "data-3044b4046ff58a677209aeac5b67fcb9": [
         {
          "Type": "Intake",
          "count": 1438,
          "intake_monthyear": "2013-10",
          "intake_year": 2013
         },
         {
          "Type": "Intake",
          "count": 1185,
          "intake_monthyear": "2013-11",
          "intake_year": 2013
         },
         {
          "Type": "Intake",
          "count": 1143,
          "intake_monthyear": "2013-12",
          "intake_year": 2013
         },
         {
          "Type": "Intake",
          "count": 1115,
          "intake_monthyear": "2014-01",
          "intake_year": 2014
         },
         {
          "Type": "Intake",
          "count": 1037,
          "intake_monthyear": "2014-02",
          "intake_year": 2014
         },
         {
          "Type": "Intake",
          "count": 1350,
          "intake_monthyear": "2014-03",
          "intake_year": 2014
         },
         {
          "Type": "Intake",
          "count": 1399,
          "intake_monthyear": "2014-04",
          "intake_year": 2014
         },
         {
          "Type": "Intake",
          "count": 1776,
          "intake_monthyear": "2014-05",
          "intake_year": 2014
         },
         {
          "Type": "Intake",
          "count": 1644,
          "intake_monthyear": "2014-06",
          "intake_year": 2014
         },
         {
          "Type": "Intake",
          "count": 1730,
          "intake_monthyear": "2014-07",
          "intake_year": 2014
         },
         {
          "Type": "Intake",
          "count": 1478,
          "intake_monthyear": "2014-08",
          "intake_year": 2014
         },
         {
          "Type": "Intake",
          "count": 1514,
          "intake_monthyear": "2014-09",
          "intake_year": 2014
         },
         {
          "Type": "Intake",
          "count": 1372,
          "intake_monthyear": "2014-10",
          "intake_year": 2014
         },
         {
          "Type": "Intake",
          "count": 1207,
          "intake_monthyear": "2014-11",
          "intake_year": 2014
         },
         {
          "Type": "Intake",
          "count": 1132,
          "intake_monthyear": "2014-12",
          "intake_year": 2014
         },
         {
          "Type": "Intake",
          "count": 1056,
          "intake_monthyear": "2015-01",
          "intake_year": 2015
         },
         {
          "Type": "Intake",
          "count": 964,
          "intake_monthyear": "2015-02",
          "intake_year": 2015
         },
         {
          "Type": "Intake",
          "count": 1172,
          "intake_monthyear": "2015-03",
          "intake_year": 2015
         },
         {
          "Type": "Intake",
          "count": 1382,
          "intake_monthyear": "2015-04",
          "intake_year": 2015
         },
         {
          "Type": "Intake",
          "count": 1877,
          "intake_monthyear": "2015-05",
          "intake_year": 2015
         },
         {
          "Type": "Intake",
          "count": 1996,
          "intake_monthyear": "2015-06",
          "intake_year": 2015
         },
         {
          "Type": "Intake",
          "count": 1493,
          "intake_monthyear": "2015-07",
          "intake_year": 2015
         },
         {
          "Type": "Intake",
          "count": 1561,
          "intake_monthyear": "2015-08",
          "intake_year": 2015
         },
         {
          "Type": "Intake",
          "count": 1457,
          "intake_monthyear": "2015-09",
          "intake_year": 2015
         },
         {
          "Type": "Intake",
          "count": 1585,
          "intake_monthyear": "2015-10",
          "intake_year": 2015
         },
         {
          "Type": "Intake",
          "count": 1224,
          "intake_monthyear": "2015-11",
          "intake_year": 2015
         },
         {
          "Type": "Intake",
          "count": 980,
          "intake_monthyear": "2015-12",
          "intake_year": 2015
         },
         {
          "Type": "Intake",
          "count": 1070,
          "intake_monthyear": "2016-01",
          "intake_year": 2016
         },
         {
          "Type": "Intake",
          "count": 1058,
          "intake_monthyear": "2016-02",
          "intake_year": 2016
         },
         {
          "Type": "Intake",
          "count": 1260,
          "intake_monthyear": "2016-03",
          "intake_year": 2016
         },
         {
          "Type": "Intake",
          "count": 1412,
          "intake_monthyear": "2016-04",
          "intake_year": 2016
         },
         {
          "Type": "Intake",
          "count": 1847,
          "intake_monthyear": "2016-05",
          "intake_year": 2016
         },
         {
          "Type": "Intake",
          "count": 1476,
          "intake_monthyear": "2016-06",
          "intake_year": 2016
         },
         {
          "Type": "Intake",
          "count": 1246,
          "intake_monthyear": "2016-07",
          "intake_year": 2016
         },
         {
          "Type": "Intake",
          "count": 1475,
          "intake_monthyear": "2016-08",
          "intake_year": 2016
         },
         {
          "Type": "Intake",
          "count": 1388,
          "intake_monthyear": "2016-09",
          "intake_year": 2016
         },
         {
          "Type": "Intake",
          "count": 1241,
          "intake_monthyear": "2016-10",
          "intake_year": 2016
         },
         {
          "Type": "Intake",
          "count": 1167,
          "intake_monthyear": "2016-11",
          "intake_year": 2016
         },
         {
          "Type": "Intake",
          "count": 1140,
          "intake_monthyear": "2016-12",
          "intake_year": 2016
         },
         {
          "Type": "Intake",
          "count": 1076,
          "intake_monthyear": "2017-01",
          "intake_year": 2017
         },
         {
          "Type": "Intake",
          "count": 1064,
          "intake_monthyear": "2017-02",
          "intake_year": 2017
         },
         {
          "Type": "Intake",
          "count": 1220,
          "intake_monthyear": "2017-03",
          "intake_year": 2017
         },
         {
          "Type": "Intake",
          "count": 1344,
          "intake_monthyear": "2017-04",
          "intake_year": 2017
         },
         {
          "Type": "Intake",
          "count": 1742,
          "intake_monthyear": "2017-05",
          "intake_year": 2017
         },
         {
          "Type": "Intake",
          "count": 1712,
          "intake_monthyear": "2017-06",
          "intake_year": 2017
         },
         {
          "Type": "Intake",
          "count": 1501,
          "intake_monthyear": "2017-07",
          "intake_year": 2017
         },
         {
          "Type": "Intake",
          "count": 1381,
          "intake_monthyear": "2017-08",
          "intake_year": 2017
         },
         {
          "Type": "Intake",
          "count": 1536,
          "intake_monthyear": "2017-09",
          "intake_year": 2017
         },
         {
          "Type": "Intake",
          "count": 1307,
          "intake_monthyear": "2017-10",
          "intake_year": 2017
         },
         {
          "Type": "Intake",
          "count": 1078,
          "intake_monthyear": "2017-11",
          "intake_year": 2017
         },
         {
          "Type": "Intake",
          "count": 1049,
          "intake_monthyear": "2017-12",
          "intake_year": 2017
         },
         {
          "Type": "Intake",
          "count": 1001,
          "intake_monthyear": "2018-01",
          "intake_year": 2018
         },
         {
          "Type": "Intake",
          "count": 928,
          "intake_monthyear": "2018-02",
          "intake_year": 2018
         },
         {
          "Type": "Intake",
          "count": 975,
          "intake_monthyear": "2018-03",
          "intake_year": 2018
         }
        ],
        "data-b34d318da1c40b249e0dc624f518b065": [
         {
          "Type": "Outake",
          "count": 982,
          "outake_year": 2013,
          "outcome_monthyear": "2013-10"
         },
         {
          "Type": "Outake",
          "count": 1077,
          "outake_year": 2013,
          "outcome_monthyear": "2013-11"
         },
         {
          "Type": "Outake",
          "count": 1302,
          "outake_year": 2013,
          "outcome_monthyear": "2013-12"
         },
         {
          "Type": "Outake",
          "count": 1067,
          "outake_year": 2014,
          "outcome_monthyear": "2014-01"
         },
         {
          "Type": "Outake",
          "count": 988,
          "outake_year": 2014,
          "outcome_monthyear": "2014-02"
         },
         {
          "Type": "Outake",
          "count": 1329,
          "outake_year": 2014,
          "outcome_monthyear": "2014-03"
         },
         {
          "Type": "Outake",
          "count": 1269,
          "outake_year": 2014,
          "outcome_monthyear": "2014-04"
         },
         {
          "Type": "Outake",
          "count": 1491,
          "outake_year": 2014,
          "outcome_monthyear": "2014-05"
         },
         {
          "Type": "Outake",
          "count": 1593,
          "outake_year": 2014,
          "outcome_monthyear": "2014-06"
         },
         {
          "Type": "Outake",
          "count": 1899,
          "outake_year": 2014,
          "outcome_monthyear": "2014-07"
         },
         {
          "Type": "Outake",
          "count": 1678,
          "outake_year": 2014,
          "outcome_monthyear": "2014-08"
         },
         {
          "Type": "Outake",
          "count": 1483,
          "outake_year": 2014,
          "outcome_monthyear": "2014-09"
         },
         {
          "Type": "Outake",
          "count": 1360,
          "outake_year": 2014,
          "outcome_monthyear": "2014-10"
         },
         {
          "Type": "Outake",
          "count": 1255,
          "outake_year": 2014,
          "outcome_monthyear": "2014-11"
         },
         {
          "Type": "Outake",
          "count": 1288,
          "outake_year": 2014,
          "outcome_monthyear": "2014-12"
         },
         {
          "Type": "Outake",
          "count": 1049,
          "outake_year": 2015,
          "outcome_monthyear": "2015-01"
         },
         {
          "Type": "Outake",
          "count": 985,
          "outake_year": 2015,
          "outcome_monthyear": "2015-02"
         },
         {
          "Type": "Outake",
          "count": 1079,
          "outake_year": 2015,
          "outcome_monthyear": "2015-03"
         },
         {
          "Type": "Outake",
          "count": 1231,
          "outake_year": 2015,
          "outcome_monthyear": "2015-04"
         },
         {
          "Type": "Outake",
          "count": 1654,
          "outake_year": 2015,
          "outcome_monthyear": "2015-05"
         },
         {
          "Type": "Outake",
          "count": 1795,
          "outake_year": 2015,
          "outcome_monthyear": "2015-06"
         },
         {
          "Type": "Outake",
          "count": 1745,
          "outake_year": 2015,
          "outcome_monthyear": "2015-07"
         },
         {
          "Type": "Outake",
          "count": 1577,
          "outake_year": 2015,
          "outcome_monthyear": "2015-08"
         },
         {
          "Type": "Outake",
          "count": 1472,
          "outake_year": 2015,
          "outcome_monthyear": "2015-09"
         },
         {
          "Type": "Outake",
          "count": 1423,
          "outake_year": 2015,
          "outcome_monthyear": "2015-10"
         },
         {
          "Type": "Outake",
          "count": 1378,
          "outake_year": 2015,
          "outcome_monthyear": "2015-11"
         },
         {
          "Type": "Outake",
          "count": 1174,
          "outake_year": 2015,
          "outcome_monthyear": "2015-12"
         },
         {
          "Type": "Outake",
          "count": 1147,
          "outake_year": 2016,
          "outcome_monthyear": "2016-01"
         },
         {
          "Type": "Outake",
          "count": 1005,
          "outake_year": 2016,
          "outcome_monthyear": "2016-02"
         },
         {
          "Type": "Outake",
          "count": 1266,
          "outake_year": 2016,
          "outcome_monthyear": "2016-03"
         },
         {
          "Type": "Outake",
          "count": 1215,
          "outake_year": 2016,
          "outcome_monthyear": "2016-04"
         },
         {
          "Type": "Outake",
          "count": 1529,
          "outake_year": 2016,
          "outcome_monthyear": "2016-05"
         },
         {
          "Type": "Outake",
          "count": 1480,
          "outake_year": 2016,
          "outcome_monthyear": "2016-06"
         },
         {
          "Type": "Outake",
          "count": 1495,
          "outake_year": 2016,
          "outcome_monthyear": "2016-07"
         },
         {
          "Type": "Outake",
          "count": 1379,
          "outake_year": 2016,
          "outcome_monthyear": "2016-08"
         },
         {
          "Type": "Outake",
          "count": 1501,
          "outake_year": 2016,
          "outcome_monthyear": "2016-09"
         },
         {
          "Type": "Outake",
          "count": 1266,
          "outake_year": 2016,
          "outcome_monthyear": "2016-10"
         },
         {
          "Type": "Outake",
          "count": 1271,
          "outake_year": 2016,
          "outcome_monthyear": "2016-11"
         },
         {
          "Type": "Outake",
          "count": 1247,
          "outake_year": 2016,
          "outcome_monthyear": "2016-12"
         },
         {
          "Type": "Outake",
          "count": 1204,
          "outake_year": 2017,
          "outcome_monthyear": "2017-01"
         },
         {
          "Type": "Outake",
          "count": 1149,
          "outake_year": 2017,
          "outcome_monthyear": "2017-02"
         },
         {
          "Type": "Outake",
          "count": 1192,
          "outake_year": 2017,
          "outcome_monthyear": "2017-03"
         },
         {
          "Type": "Outake",
          "count": 1182,
          "outake_year": 2017,
          "outcome_monthyear": "2017-04"
         },
         {
          "Type": "Outake",
          "count": 1494,
          "outake_year": 2017,
          "outcome_monthyear": "2017-05"
         },
         {
          "Type": "Outake",
          "count": 1522,
          "outake_year": 2017,
          "outcome_monthyear": "2017-06"
         },
         {
          "Type": "Outake",
          "count": 1664,
          "outake_year": 2017,
          "outcome_monthyear": "2017-07"
         },
         {
          "Type": "Outake",
          "count": 1604,
          "outake_year": 2017,
          "outcome_monthyear": "2017-08"
         },
         {
          "Type": "Outake",
          "count": 1378,
          "outake_year": 2017,
          "outcome_monthyear": "2017-09"
         },
         {
          "Type": "Outake",
          "count": 1522,
          "outake_year": 2017,
          "outcome_monthyear": "2017-10"
         },
         {
          "Type": "Outake",
          "count": 1117,
          "outake_year": 2017,
          "outcome_monthyear": "2017-11"
         },
         {
          "Type": "Outake",
          "count": 1160,
          "outake_year": 2017,
          "outcome_monthyear": "2017-12"
         },
         {
          "Type": "Outake",
          "count": 1072,
          "outake_year": 2018,
          "outcome_monthyear": "2018-01"
         },
         {
          "Type": "Outake",
          "count": 994,
          "outake_year": 2018,
          "outcome_monthyear": "2018-02"
         },
         {
          "Type": "Outake",
          "count": 1218,
          "outake_year": 2018,
          "outcome_monthyear": "2018-03"
         }
        ]
       },
       "height": 250,
       "layer": [
        {
         "data": {
          "name": "data-3044b4046ff58a677209aeac5b67fcb9"
         },
         "encoding": {
          "color": {
           "field": "Type",
           "type": "nominal"
          },
          "x": {
           "field": "intake_monthyear",
           "timeUnit": "yearmonth",
           "title": "Time (Month-Year)",
           "type": "ordinal"
          },
          "y": {
           "field": "count",
           "title": "Count",
           "type": "quantitative"
          }
         },
         "mark": "line"
        },
        {
         "data": {
          "name": "data-b34d318da1c40b249e0dc624f518b065"
         },
         "encoding": {
          "color": {
           "field": "Type",
           "type": "nominal"
          },
          "x": {
           "field": "outcome_monthyear",
           "timeUnit": "yearmonth",
           "title": "Time (Month-Year)",
           "type": "ordinal"
          },
          "y": {
           "field": "count",
           "title": "Count",
           "type": "quantitative"
          }
         },
         "mark": "line"
        }
       ],
       "title": "Trend in Intakes and Out-takes of Animals at AAC",
       "width": 800
      },
      "image/png": "[encoded data removed]",
      "text/plain": [
       "<VegaLite 3 object>\n",
       "\n",
       "If you see this message, it means the renderer has not been properly enabled\n",
       "for the frontend that you are using. For more information, see\n",
       "https://altair-viz.github.io/user_guide/troubleshooting.html\n"
      ]
     },
     "execution_count": 56,
     "metadata": {},
     "output_type": "execute_result"
    }
   ],
   "source": [
    "chart = alt.Chart(data_new).mark_line().encode(\n",
    "        alt.X(\"yearmonth(intake_monthyear):O\", title = \"Time (Month-Year)\"),\n",
    "        alt.Y('count', title=\"Count\"),\n",
    "        alt.Color(\"Type\")\n",
    "        )\n",
    "\n",
    "chart1 = alt.Chart(data_new1[data_new1['outcome_monthyear'] != \"2018-04\"]).mark_line().encode(\n",
    "        alt.X(\"yearmonth(outcome_monthyear):O\", title = \"Time (Month-Year)\"),\n",
    "        alt.Y('count', title=\"Count\"),\n",
    "        alt.Color(\"Type\")\n",
    "        )\n",
    "\n",
    "(chart + chart1).properties(title='Trend in Intakes and Out-takes of Animals at AAC',\n",
    "                    width=800, height=250).configure_axisX(labelFontSize=14,\n",
    "    titleFontSize=18, labelAngle = 45,labelOverlap=True).configure_axisY(labelFontSize=14,\n",
    "    titleFontSize=18).configure_title(fontSize=20).configure_legend(labelFontSize=18,\n",
    "    titleFontSize=20)"
   ]
  },
  {
   "cell_type": "code",
   "execution_count": 22,
   "metadata": {},
   "outputs": [
    {
     "data": {
      "text/html": [
       "<div>\n",
       "<style scoped>\n",
       "    .dataframe tbody tr th:only-of-type {\n",
       "        vertical-align: middle;\n",
       "    }\n",
       "\n",
       "    .dataframe tbody tr th {\n",
       "        vertical-align: top;\n",
       "    }\n",
       "\n",
       "    .dataframe thead th {\n",
       "        text-align: right;\n",
       "    }\n",
       "</style>\n",
       "<table border=\"1\" class=\"dataframe\">\n",
       "  <thead>\n",
       "    <tr style=\"text-align: right;\">\n",
       "      <th></th>\n",
       "      <th>animal_type</th>\n",
       "      <th>breed</th>\n",
       "      <th>intake_monthyear</th>\n",
       "      <th>intake_weekday</th>\n",
       "      <th>age_upon_intake_(days)</th>\n",
       "      <th>intake_condition</th>\n",
       "      <th>intake_type</th>\n",
       "      <th>sex_upon_intake</th>\n",
       "      <th>outcome_monthyear</th>\n",
       "      <th>outcome_weekday</th>\n",
       "      <th>age_upon_outcome_(days)</th>\n",
       "      <th>outcome_type</th>\n",
       "      <th>sex_upon_outcome</th>\n",
       "      <th>total_time_in_shelter_days</th>\n",
       "      <th>outcome_types</th>\n",
       "    </tr>\n",
       "  </thead>\n",
       "  <tbody>\n",
       "    <tr>\n",
       "      <th>0</th>\n",
       "      <td>Dog</td>\n",
       "      <td>Spinone Italiano Mix</td>\n",
       "      <td>2017-12</td>\n",
       "      <td>Thursday</td>\n",
       "      <td>3650</td>\n",
       "      <td>Normal</td>\n",
       "      <td>Stray</td>\n",
       "      <td>Neutered Male</td>\n",
       "      <td>2017-12</td>\n",
       "      <td>Thursday</td>\n",
       "      <td>3650</td>\n",
       "      <td>Return to Owner</td>\n",
       "      <td>Neutered Male</td>\n",
       "      <td>2.961806</td>\n",
       "      <td>Return to Owner</td>\n",
       "    </tr>\n",
       "    <tr>\n",
       "      <th>1</th>\n",
       "      <td>Dog</td>\n",
       "      <td>Dachshund</td>\n",
       "      <td>2014-04</td>\n",
       "      <td>Wednesday</td>\n",
       "      <td>3650</td>\n",
       "      <td>Normal</td>\n",
       "      <td>Owner Surrender</td>\n",
       "      <td>Neutered Male</td>\n",
       "      <td>2014-04</td>\n",
       "      <td>Monday</td>\n",
       "      <td>3650</td>\n",
       "      <td>Transfer</td>\n",
       "      <td>Neutered Male</td>\n",
       "      <td>4.970139</td>\n",
       "      <td>Transfer</td>\n",
       "    </tr>\n",
       "    <tr>\n",
       "      <th>2</th>\n",
       "      <td>Dog</td>\n",
       "      <td>Shetland Sheepdog</td>\n",
       "      <td>2013-11</td>\n",
       "      <td>Saturday</td>\n",
       "      <td>5840</td>\n",
       "      <td>Injured</td>\n",
       "      <td>Public Assist</td>\n",
       "      <td>Neutered Male</td>\n",
       "      <td>2013-11</td>\n",
       "      <td>Saturday</td>\n",
       "      <td>5840</td>\n",
       "      <td>Return to Owner</td>\n",
       "      <td>Neutered Male</td>\n",
       "      <td>0.119444</td>\n",
       "      <td>Return to Owner</td>\n",
       "    </tr>\n",
       "    <tr>\n",
       "      <th>3</th>\n",
       "      <td>Dog</td>\n",
       "      <td>Labrador Retriever/Pit Bull</td>\n",
       "      <td>2013-11</td>\n",
       "      <td>Saturday</td>\n",
       "      <td>5475</td>\n",
       "      <td>Aged</td>\n",
       "      <td>Stray</td>\n",
       "      <td>Spayed Female</td>\n",
       "      <td>2013-11</td>\n",
       "      <td>Sunday</td>\n",
       "      <td>5475</td>\n",
       "      <td>Return to Owner</td>\n",
       "      <td>Spayed Female</td>\n",
       "      <td>0.870833</td>\n",
       "      <td>Return to Owner</td>\n",
       "    </tr>\n",
       "    <tr>\n",
       "      <th>4</th>\n",
       "      <td>Dog</td>\n",
       "      <td>Miniature Schnauzer Mix</td>\n",
       "      <td>2014-11</td>\n",
       "      <td>Friday</td>\n",
       "      <td>5475</td>\n",
       "      <td>Normal</td>\n",
       "      <td>Stray</td>\n",
       "      <td>Intact Female</td>\n",
       "      <td>2014-11</td>\n",
       "      <td>Friday</td>\n",
       "      <td>5475</td>\n",
       "      <td>Return to Owner</td>\n",
       "      <td>Intact Female</td>\n",
       "      <td>0.178472</td>\n",
       "      <td>Return to Owner</td>\n",
       "    </tr>\n",
       "  </tbody>\n",
       "</table>\n",
       "</div>"
      ],
      "text/plain": [
       "  animal_type                        breed intake_monthyear intake_weekday  \\\n",
       "0         Dog         Spinone Italiano Mix          2017-12       Thursday   \n",
       "1         Dog                    Dachshund          2014-04      Wednesday   \n",
       "2         Dog            Shetland Sheepdog          2013-11       Saturday   \n",
       "3         Dog  Labrador Retriever/Pit Bull          2013-11       Saturday   \n",
       "4         Dog      Miniature Schnauzer Mix          2014-11         Friday   \n",
       "\n",
       "   age_upon_intake_(days) intake_condition      intake_type sex_upon_intake  \\\n",
       "0                    3650           Normal            Stray   Neutered Male   \n",
       "1                    3650           Normal  Owner Surrender   Neutered Male   \n",
       "2                    5840          Injured    Public Assist   Neutered Male   \n",
       "3                    5475             Aged            Stray   Spayed Female   \n",
       "4                    5475           Normal            Stray   Intact Female   \n",
       "\n",
       "  outcome_monthyear outcome_weekday  age_upon_outcome_(days)     outcome_type  \\\n",
       "0           2017-12        Thursday                     3650  Return to Owner   \n",
       "1           2014-04          Monday                     3650         Transfer   \n",
       "2           2013-11        Saturday                     5840  Return to Owner   \n",
       "3           2013-11          Sunday                     5475  Return to Owner   \n",
       "4           2014-11          Friday                     5475  Return to Owner   \n",
       "\n",
       "  sex_upon_outcome  total_time_in_shelter_days    outcome_types  \n",
       "0    Neutered Male                    2.961806  Return to Owner  \n",
       "1    Neutered Male                    4.970139         Transfer  \n",
       "2    Neutered Male                    0.119444  Return to Owner  \n",
       "3    Spayed Female                    0.870833  Return to Owner  \n",
       "4    Intact Female                    0.178472  Return to Owner  "
      ]
     },
     "execution_count": 22,
     "metadata": {},
     "output_type": "execute_result"
    }
   ],
   "source": [
    "df = pd.read_csv(\"https://raw.githubusercontent.com/UBC-MDS/DSCI_532_L02_group206_ms1/master/data/cleaned_acc_data.csv\")\n"
   ]
  },
  {
   "cell_type": "code",
   "execution_count": 23,
   "metadata": {},
   "outputs": [
    {
     "data": {
      "text/html": [
       "<div>\n",
       "<style scoped>\n",
       "    .dataframe tbody tr th:only-of-type {\n",
       "        vertical-align: middle;\n",
       "    }\n",
       "\n",
       "    .dataframe tbody tr th {\n",
       "        vertical-align: top;\n",
       "    }\n",
       "\n",
       "    .dataframe thead th {\n",
       "        text-align: right;\n",
       "    }\n",
       "</style>\n",
       "<table border=\"1\" class=\"dataframe\">\n",
       "  <thead>\n",
       "    <tr style=\"text-align: right;\">\n",
       "      <th></th>\n",
       "      <th>animal_type</th>\n",
       "      <th>breed</th>\n",
       "      <th>intake_monthyear</th>\n",
       "      <th>intake_weekday</th>\n",
       "      <th>age_upon_intake_(days)</th>\n",
       "      <th>intake_condition</th>\n",
       "      <th>intake_type</th>\n",
       "      <th>sex_upon_intake</th>\n",
       "      <th>outcome_monthyear</th>\n",
       "      <th>outcome_weekday</th>\n",
       "      <th>age_upon_outcome_(days)</th>\n",
       "      <th>outcome_type</th>\n",
       "      <th>sex_upon_outcome</th>\n",
       "      <th>total_time_in_shelter_days</th>\n",
       "      <th>outcome_types</th>\n",
       "      <th>intake_year</th>\n",
       "      <th>outake_year</th>\n",
       "    </tr>\n",
       "  </thead>\n",
       "  <tbody>\n",
       "    <tr>\n",
       "      <th>0</th>\n",
       "      <td>Dog</td>\n",
       "      <td>Spinone Italiano Mix</td>\n",
       "      <td>2017-12</td>\n",
       "      <td>Thursday</td>\n",
       "      <td>3650</td>\n",
       "      <td>Normal</td>\n",
       "      <td>Stray</td>\n",
       "      <td>Neutered Male</td>\n",
       "      <td>2017-12</td>\n",
       "      <td>Thursday</td>\n",
       "      <td>3650</td>\n",
       "      <td>Return to Owner</td>\n",
       "      <td>Neutered Male</td>\n",
       "      <td>2.961806</td>\n",
       "      <td>Return to Owner</td>\n",
       "      <td>2017</td>\n",
       "      <td>2017</td>\n",
       "    </tr>\n",
       "    <tr>\n",
       "      <th>1</th>\n",
       "      <td>Dog</td>\n",
       "      <td>Dachshund</td>\n",
       "      <td>2014-04</td>\n",
       "      <td>Wednesday</td>\n",
       "      <td>3650</td>\n",
       "      <td>Normal</td>\n",
       "      <td>Owner Surrender</td>\n",
       "      <td>Neutered Male</td>\n",
       "      <td>2014-04</td>\n",
       "      <td>Monday</td>\n",
       "      <td>3650</td>\n",
       "      <td>Transfer</td>\n",
       "      <td>Neutered Male</td>\n",
       "      <td>4.970139</td>\n",
       "      <td>Transfer</td>\n",
       "      <td>2014</td>\n",
       "      <td>2014</td>\n",
       "    </tr>\n",
       "    <tr>\n",
       "      <th>2</th>\n",
       "      <td>Dog</td>\n",
       "      <td>Shetland Sheepdog</td>\n",
       "      <td>2013-11</td>\n",
       "      <td>Saturday</td>\n",
       "      <td>5840</td>\n",
       "      <td>Injured</td>\n",
       "      <td>Public Assist</td>\n",
       "      <td>Neutered Male</td>\n",
       "      <td>2013-11</td>\n",
       "      <td>Saturday</td>\n",
       "      <td>5840</td>\n",
       "      <td>Return to Owner</td>\n",
       "      <td>Neutered Male</td>\n",
       "      <td>0.119444</td>\n",
       "      <td>Return to Owner</td>\n",
       "      <td>2013</td>\n",
       "      <td>2013</td>\n",
       "    </tr>\n",
       "    <tr>\n",
       "      <th>3</th>\n",
       "      <td>Dog</td>\n",
       "      <td>Labrador Retriever/Pit Bull</td>\n",
       "      <td>2013-11</td>\n",
       "      <td>Saturday</td>\n",
       "      <td>5475</td>\n",
       "      <td>Aged</td>\n",
       "      <td>Stray</td>\n",
       "      <td>Spayed Female</td>\n",
       "      <td>2013-11</td>\n",
       "      <td>Sunday</td>\n",
       "      <td>5475</td>\n",
       "      <td>Return to Owner</td>\n",
       "      <td>Spayed Female</td>\n",
       "      <td>0.870833</td>\n",
       "      <td>Return to Owner</td>\n",
       "      <td>2013</td>\n",
       "      <td>2013</td>\n",
       "    </tr>\n",
       "    <tr>\n",
       "      <th>4</th>\n",
       "      <td>Dog</td>\n",
       "      <td>Miniature Schnauzer Mix</td>\n",
       "      <td>2014-11</td>\n",
       "      <td>Friday</td>\n",
       "      <td>5475</td>\n",
       "      <td>Normal</td>\n",
       "      <td>Stray</td>\n",
       "      <td>Intact Female</td>\n",
       "      <td>2014-11</td>\n",
       "      <td>Friday</td>\n",
       "      <td>5475</td>\n",
       "      <td>Return to Owner</td>\n",
       "      <td>Intact Female</td>\n",
       "      <td>0.178472</td>\n",
       "      <td>Return to Owner</td>\n",
       "      <td>2014</td>\n",
       "      <td>2014</td>\n",
       "    </tr>\n",
       "  </tbody>\n",
       "</table>\n",
       "</div>"
      ],
      "text/plain": [
       "  animal_type                        breed intake_monthyear intake_weekday  \\\n",
       "0         Dog         Spinone Italiano Mix          2017-12       Thursday   \n",
       "1         Dog                    Dachshund          2014-04      Wednesday   \n",
       "2         Dog            Shetland Sheepdog          2013-11       Saturday   \n",
       "3         Dog  Labrador Retriever/Pit Bull          2013-11       Saturday   \n",
       "4         Dog      Miniature Schnauzer Mix          2014-11         Friday   \n",
       "\n",
       "   age_upon_intake_(days) intake_condition      intake_type sex_upon_intake  \\\n",
       "0                    3650           Normal            Stray   Neutered Male   \n",
       "1                    3650           Normal  Owner Surrender   Neutered Male   \n",
       "2                    5840          Injured    Public Assist   Neutered Male   \n",
       "3                    5475             Aged            Stray   Spayed Female   \n",
       "4                    5475           Normal            Stray   Intact Female   \n",
       "\n",
       "  outcome_monthyear outcome_weekday  age_upon_outcome_(days)     outcome_type  \\\n",
       "0           2017-12        Thursday                     3650  Return to Owner   \n",
       "1           2014-04          Monday                     3650         Transfer   \n",
       "2           2013-11        Saturday                     5840  Return to Owner   \n",
       "3           2013-11          Sunday                     5475  Return to Owner   \n",
       "4           2014-11          Friday                     5475  Return to Owner   \n",
       "\n",
       "  sex_upon_outcome  total_time_in_shelter_days    outcome_types  intake_year  \\\n",
       "0    Neutered Male                    2.961806  Return to Owner         2017   \n",
       "1    Neutered Male                    4.970139         Transfer         2014   \n",
       "2    Neutered Male                    0.119444  Return to Owner         2013   \n",
       "3    Spayed Female                    0.870833  Return to Owner         2013   \n",
       "4    Intact Female                    0.178472  Return to Owner         2014   \n",
       "\n",
       "   outake_year  \n",
       "0         2017  \n",
       "1         2014  \n",
       "2         2013  \n",
       "3         2013  \n",
       "4         2014  "
      ]
     },
     "execution_count": 23,
     "metadata": {},
     "output_type": "execute_result"
    }
   ],
   "source": [
    "# Preprocessing\n",
    "df['intake_year'] = pd.DatetimeIndex(df['intake_monthyear']).year\n",
    "df['outake_year'] = pd.DatetimeIndex(df['outcome_monthyear']).year\n",
    "\n",
    "df['label']\n",
    "df.head()\n"
   ]
  },
  {
   "cell_type": "code",
   "execution_count": 25,
   "metadata": {},
   "outputs": [
    {
     "data": {
      "text/html": [
       "<div>\n",
       "<style scoped>\n",
       "    .dataframe tbody tr th:only-of-type {\n",
       "        vertical-align: middle;\n",
       "    }\n",
       "\n",
       "    .dataframe tbody tr th {\n",
       "        vertical-align: top;\n",
       "    }\n",
       "\n",
       "    .dataframe thead th {\n",
       "        text-align: right;\n",
       "    }\n",
       "</style>\n",
       "<table border=\"1\" class=\"dataframe\">\n",
       "  <thead>\n",
       "    <tr style=\"text-align: right;\">\n",
       "      <th></th>\n",
       "      <th>intake_monthyear</th>\n",
       "      <th>count</th>\n",
       "      <th>Type</th>\n",
       "      <th>intake_year</th>\n",
       "    </tr>\n",
       "  </thead>\n",
       "  <tbody>\n",
       "    <tr>\n",
       "      <th>0</th>\n",
       "      <td>2013-10</td>\n",
       "      <td>1438</td>\n",
       "      <td>Intake</td>\n",
       "      <td>2013</td>\n",
       "    </tr>\n",
       "    <tr>\n",
       "      <th>1</th>\n",
       "      <td>2013-11</td>\n",
       "      <td>1185</td>\n",
       "      <td>Intake</td>\n",
       "      <td>2013</td>\n",
       "    </tr>\n",
       "    <tr>\n",
       "      <th>2</th>\n",
       "      <td>2013-12</td>\n",
       "      <td>1143</td>\n",
       "      <td>Intake</td>\n",
       "      <td>2013</td>\n",
       "    </tr>\n",
       "    <tr>\n",
       "      <th>3</th>\n",
       "      <td>2014-01</td>\n",
       "      <td>1115</td>\n",
       "      <td>Intake</td>\n",
       "      <td>2014</td>\n",
       "    </tr>\n",
       "    <tr>\n",
       "      <th>4</th>\n",
       "      <td>2014-02</td>\n",
       "      <td>1037</td>\n",
       "      <td>Intake</td>\n",
       "      <td>2014</td>\n",
       "    </tr>\n",
       "  </tbody>\n",
       "</table>\n",
       "</div>"
      ],
      "text/plain": [
       "  intake_monthyear  count    Type  intake_year\n",
       "0          2013-10   1438  Intake         2013\n",
       "1          2013-11   1185  Intake         2013\n",
       "2          2013-12   1143  Intake         2013\n",
       "3          2014-01   1115  Intake         2014\n",
       "4          2014-02   1037  Intake         2014"
      ]
     },
     "execution_count": 25,
     "metadata": {},
     "output_type": "execute_result"
    }
   ],
   "source": [
    "# Plot 1\n",
    "data_new = df.groupby(by = \"intake_monthyear\").agg({\"animal_type\":\"count\"}).reset_index()\n",
    "data_new.columns = [\"intake_monthyear\",\"count\"]\n",
    "data_new[\"Type\"] = \"Intake\"\n",
    "data_new['intake_year'] = pd.DatetimeIndex(data_new['intake_monthyear']).year\n",
    "\n",
    "data_new.head()"
   ]
  },
  {
   "cell_type": "code",
   "execution_count": 26,
   "metadata": {},
   "outputs": [
    {
     "data": {
      "text/html": [
       "<div>\n",
       "<style scoped>\n",
       "    .dataframe tbody tr th:only-of-type {\n",
       "        vertical-align: middle;\n",
       "    }\n",
       "\n",
       "    .dataframe tbody tr th {\n",
       "        vertical-align: top;\n",
       "    }\n",
       "\n",
       "    .dataframe thead th {\n",
       "        text-align: right;\n",
       "    }\n",
       "</style>\n",
       "<table border=\"1\" class=\"dataframe\">\n",
       "  <thead>\n",
       "    <tr style=\"text-align: right;\">\n",
       "      <th></th>\n",
       "      <th>outcome_monthyear</th>\n",
       "      <th>count</th>\n",
       "      <th>Type</th>\n",
       "      <th>outake_year</th>\n",
       "    </tr>\n",
       "  </thead>\n",
       "  <tbody>\n",
       "    <tr>\n",
       "      <th>0</th>\n",
       "      <td>2013-10</td>\n",
       "      <td>982</td>\n",
       "      <td>Outake</td>\n",
       "      <td>2013</td>\n",
       "    </tr>\n",
       "    <tr>\n",
       "      <th>1</th>\n",
       "      <td>2013-11</td>\n",
       "      <td>1077</td>\n",
       "      <td>Outake</td>\n",
       "      <td>2013</td>\n",
       "    </tr>\n",
       "    <tr>\n",
       "      <th>2</th>\n",
       "      <td>2013-12</td>\n",
       "      <td>1302</td>\n",
       "      <td>Outake</td>\n",
       "      <td>2013</td>\n",
       "    </tr>\n",
       "    <tr>\n",
       "      <th>3</th>\n",
       "      <td>2014-01</td>\n",
       "      <td>1067</td>\n",
       "      <td>Outake</td>\n",
       "      <td>2014</td>\n",
       "    </tr>\n",
       "    <tr>\n",
       "      <th>4</th>\n",
       "      <td>2014-02</td>\n",
       "      <td>988</td>\n",
       "      <td>Outake</td>\n",
       "      <td>2014</td>\n",
       "    </tr>\n",
       "  </tbody>\n",
       "</table>\n",
       "</div>"
      ],
      "text/plain": [
       "  outcome_monthyear  count    Type  outake_year\n",
       "0           2013-10    982  Outake         2013\n",
       "1           2013-11   1077  Outake         2013\n",
       "2           2013-12   1302  Outake         2013\n",
       "3           2014-01   1067  Outake         2014\n",
       "4           2014-02    988  Outake         2014"
      ]
     },
     "execution_count": 26,
     "metadata": {},
     "output_type": "execute_result"
    }
   ],
   "source": [
    "data_new1 = df.groupby(by = \"outcome_monthyear\").agg({\"animal_type\":\"count\"}).reset_index()\n",
    "data_new1.columns = [\"outcome_monthyear\",\"count\"]\n",
    "data_new1[\"Type\"] = \"Outake\"\n",
    "data_new1['outake_year'] = pd.DatetimeIndex(data_new1['outcome_monthyear']).year\n",
    "\n",
    "data_new1.head()"
   ]
  },
  {
   "cell_type": "code",
   "execution_count": null,
   "metadata": {},
   "outputs": [],
   "source": []
  }
 ],
 "metadata": {
  "kernelspec": {
   "display_name": "Python 3",
   "language": "python",
   "name": "python3"
  },
  "language_info": {
   "codemirror_mode": {
    "name": "ipython",
    "version": 3
   },
   "file_extension": ".py",
   "mimetype": "text/x-python",
   "name": "python",
   "nbconvert_exporter": "python",
   "pygments_lexer": "ipython3",
   "version": "3.7.5"
  }
 },
 "nbformat": 4,
 "nbformat_minor": 4
}
